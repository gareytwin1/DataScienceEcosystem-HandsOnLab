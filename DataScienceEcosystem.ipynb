{
 "cells": [
  {
   "cell_type": "markdown",
   "id": "292f614b-9528-485f-ba95-e50f88df39ed",
   "metadata": {},
   "source": [
    "# Data Science Tools and Ecosystem"
   ]
  },
  {
   "cell_type": "markdown",
   "id": "8c747d8e-680c-4b8f-ba7b-c798b43e87a5",
   "metadata": {},
   "source": [
    "In this notebook, Data Science Tools and Ecosystem are summarized."
   ]
  },
  {
   "cell_type": "markdown",
   "id": "ab76218b-3b19-4b78-968e-3ede8aab9da8",
   "metadata": {
    "tags": []
   },
   "source": [
    "**Objectives:**\n",
    "* List popular programming languages used for Data Science.\n",
    "* List commonly used libraries used by Data Scientist\n",
    "* List popular tools used by Data Scientist\n",
    "* Provide some arithmetic expression in Python\n"
   ]
  },
  {
   "cell_type": "markdown",
   "id": "c69786d0-c06c-452d-93c2-01ba39953c3a",
   "metadata": {},
   "source": [
    "Some of the popular languages that Data Scientist use are:\n",
    "1. Python\n",
    "2. R\n",
    "3. SQL\n",
    "4. SCALA\n",
    "5. Java"
   ]
  },
  {
   "cell_type": "markdown",
   "id": "3c473644-dfbe-4ee6-91f2-c25958612358",
   "metadata": {},
   "source": [
    "Some of the commonly used libraries used by Data Scientists include:\n",
    "1. numpy\n",
    "2. pandas\n",
    "3. matplotlib\n",
    "4. scikit-learn\n",
    "5. ggplot\n",
    "6. caret\n",
    "7. DeepLearning4\n",
    "8. Tensorflow\n",
    "9. PySpark"
   ]
  },
  {
   "cell_type": "markdown",
   "id": "2b4c13cc-455a-411f-a9af-3370174f6ffa",
   "metadata": {},
   "source": [
    "| Data Science Tools |\n",
    "----------------------\n",
    "| Jupyter Notebooks  |\n",
    "| Jupyter Lab        |\n",
    "| RStudio            |\n",
    "| VS Code            |"
   ]
  },
  {
   "cell_type": "markdown",
   "id": "18caf037-fa48-4fa5-88d3-da2b984a536e",
   "metadata": {
    "tags": []
   },
   "source": [
    "### Below are a few examples of evaluating arithmetic expressions in Python"
   ]
  },
  {
   "cell_type": "code",
   "execution_count": 2,
   "id": "5d19471c-0192-48b0-9458-bcd9c5828c9d",
   "metadata": {
    "tags": []
   },
   "outputs": [
    {
     "data": {
      "text/plain": [
       "17"
      ]
     },
     "execution_count": 2,
     "metadata": {},
     "output_type": "execute_result"
    }
   ],
   "source": [
    "# This is a simple arithmetic expression to multiply then add integers\n",
    "(3*4)+5"
   ]
  },
  {
   "cell_type": "code",
   "execution_count": 5,
   "id": "65ab6a8c-6fc2-4689-83d9-7c8cd29a3b93",
   "metadata": {
    "tags": []
   },
   "outputs": [
    {
     "data": {
      "text/plain": [
       "3.3333333333333335"
      ]
     },
     "execution_count": 5,
     "metadata": {},
     "output_type": "execute_result"
    }
   ],
   "source": [
    "# This will convert 200 minutes to hours by dividing by 60\n",
    "200 / 60"
   ]
  },
  {
   "cell_type": "markdown",
   "id": "1c9a85e5-b22b-4aa4-8e89-c29d2e95bb90",
   "metadata": {},
   "source": [
    "## Author \n",
    "Garey Salinas"
   ]
  },
  {
   "cell_type": "code",
   "execution_count": null,
   "id": "f6584080-f60d-4cfe-b7d4-a0389782b827",
   "metadata": {},
   "outputs": [],
   "source": []
  }
 ],
 "metadata": {
  "kernelspec": {
   "display_name": "Python",
   "language": "python",
   "name": "conda-env-python-py"
  },
  "language_info": {
   "codemirror_mode": {
    "name": "ipython",
    "version": 3
   },
   "file_extension": ".py",
   "mimetype": "text/x-python",
   "name": "python",
   "nbconvert_exporter": "python",
   "pygments_lexer": "ipython3",
   "version": "3.7.12"
  }
 },
 "nbformat": 4,
 "nbformat_minor": 5
}
